{
 "cells": [
  {
   "cell_type": "code",
   "execution_count": 2,
   "id": "0de2664d-1c75-4171-9810-a2fdb5c39966",
   "metadata": {},
   "outputs": [],
   "source": [
    "import requests"
   ]
  },
  {
   "cell_type": "code",
   "execution_count": 26,
   "id": "fe49631f-c98f-4d7f-9f11-432551f496db",
   "metadata": {},
   "outputs": [],
   "source": [
    "url = 'http://localhost:9696/predict'\n",
    "\n",
    "client_id = 'asdfghjkl728'\n",
    "client = {\n",
    "    \"checking_status\":                             1,\n",
    "    'duration':                                   18,\n",
    "    'credit_history':                              2,\n",
    "    'credit_amount':                            3190,\n",
    "    'savings_status':                              1,\n",
    "    'employment':                                  2,\n",
    "    'installment_commitment':                      2,\n",
    "    'personal_status':                             0,\n",
    "    'other_parties':                               1,\n",
    "    'residence_since':                             2,\n",
    "    'age':                                        24,\n",
    "    'other_payment_plans':                         1,\n",
    "    'housing':                                     2,\n",
    "    'existing_credits':                            1,\n",
    "    'job':                                         2,\n",
    "    'num_dependents':                              1,\n",
    "    'own_telephone':                               0,\n",
    "    'foreign_worker':                              1,\n",
    "    'property_magnitude_car':                      0,\n",
    "    'property_magnitude_life insurance':           0,\n",
    "    'property_magnitude_no known property':        0,\n",
    "    'property_magnitude_real estate':              1   \n",
    "}"
   ]
  },
  {
   "cell_type": "code",
   "execution_count": 27,
   "id": "c65a17cd-dbdf-4aef-afea-92f49e74c17e",
   "metadata": {},
   "outputs": [],
   "source": [
    "response = requests.post(url, json=client).json()"
   ]
  },
  {
   "cell_type": "code",
   "execution_count": 28,
   "id": "2c214b15-ef17-45af-aeb4-04240bff699a",
   "metadata": {},
   "outputs": [
    {
     "name": "stdout",
     "output_type": "stream",
     "text": [
      "sending credit loan to asdfghjkl728\n"
     ]
    }
   ],
   "source": [
    "if response['credit_default'] == True:\n",
    "    print('sending credit loan to %s' % client_id)\n",
    "else:\n",
    "    print('not sending credit loan to %s' % client_id)"
   ]
  },
  {
   "cell_type": "code",
   "execution_count": null,
   "id": "3762eca1-0bfb-4694-ae29-8b62133d99a0",
   "metadata": {},
   "outputs": [],
   "source": []
  }
 ],
 "metadata": {
  "kernelspec": {
   "display_name": "Python 3 (ipykernel)",
   "language": "python",
   "name": "python3"
  },
  "language_info": {
   "codemirror_mode": {
    "name": "ipython",
    "version": 3
   },
   "file_extension": ".py",
   "mimetype": "text/x-python",
   "name": "python",
   "nbconvert_exporter": "python",
   "pygments_lexer": "ipython3",
   "version": "3.12.0"
  }
 },
 "nbformat": 4,
 "nbformat_minor": 5
}
